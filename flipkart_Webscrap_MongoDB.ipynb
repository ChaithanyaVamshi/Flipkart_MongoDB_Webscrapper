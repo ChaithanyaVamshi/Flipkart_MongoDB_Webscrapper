{
 "cells": [
  {
   "cell_type": "markdown",
   "metadata": {},
   "source": [
    "# # Webscraping flipkart website data and storing it in MongoDB"
   ]
  },
  {
   "cell_type": "code",
   "execution_count": 1,
   "metadata": {},
   "outputs": [
    {
     "name": "stdout",
     "output_type": "stream",
     "text": [
      "24\n",
      "24\n",
      "24\n",
      "                                      Name Rating    Price\n",
      "0            Apple iPhone 7 (Black, 32 GB)    4.5  ₹29,499\n",
      "1          Apple iPhone 11 (White, 128 GB)    4.7  ₹73,600\n",
      "2       Apple iPhone 7 Plus (Black, 32 GB)    4.5  ₹36,999\n",
      "3           Apple iPhone 11 (White, 64 GB)    4.7  ₹68,300\n",
      "4   Apple iPhone 7 Plus (Rose Gold, 32 GB)    4.5  ₹36,999\n",
      "5           Apple iPhone 11 (Black, 64 GB)    4.7  ₹68,300\n",
      "6       Apple iPhone 8 (Space Grey, 64 GB)    4.5  ₹38,999\n",
      "7          Apple iPhone 11 (Purple, 64 GB)    4.7  ₹68,300\n",
      "8            Apple iPhone XS (Gold, 64 GB)    4.7  ₹62,999\n",
      "9           Apple iPhone 8 (Silver, 64 GB)    4.5  ₹38,999\n",
      "10         Apple iPhone 11 (Black, 128 GB)    4.7  ₹73,600\n",
      "11          Apple iPhone 11 (Green, 64 GB)    4.7  ₹68,300\n",
      "12       Apple iPhone 7 Plus (Gold, 32 GB)    4.5  ₹36,999\n",
      "13         Apple iPhone XR (Black, 128 GB)    4.6  ₹57,800\n",
      "14         Apple iPhone XS (Silver, 64 GB)    4.7  ₹62,999\n",
      "15     Apple iPhone XS (Space Grey, 64 GB)    4.7  ₹62,999\n",
      "16           Apple iPhone 6s (Gold, 32 GB)    4.5  ₹23,480\n",
      "17       Apple iPhone 7 (Rose Gold, 32 GB)    4.5  ₹29,499\n",
      "18         Apple iPhone XR (Coral, 128 GB)    4.6  ₹57,800\n",
      "19          Apple iPhone XR (White, 64 GB)    4.6  ₹52,500\n",
      "20           Apple iPhone XR (Blue, 64 GB)    4.6  ₹52,500\n",
      "21      Apple iPhone 7 (Rose Gold, 128 GB)    4.5  ₹34,900\n",
      "22         Apple iPhone 11 (White, 256 GB)    4.7  ₹84,100\n",
      "23           Apple iPhone 11 (Red, 128 GB)    4.7  ₹73,600\n"
     ]
    }
   ],
   "source": [
    "import pandas as pd\n",
    "from bs4 import BeautifulSoup\n",
    "import requests\n",
    "import pymongo\n",
    "\n",
    "url = 'https://www.flipkart.com/search?sid=tyy%2C4io&otracker=CLP_Filters&p%5B%5D=facets.brand%255B%255D%3DApple'\n",
    "req_source = requests.get(url)\n",
    "soup = BeautifulSoup(req_source.content,'html.parser') #Parsing the HTML content from the website url\n",
    "#print(soup.prettify())  #Prettify() helps to print the HTML code in structured mannner\n",
    "\n",
    "name = soup.select('._3wU53n')  #Selecting the tag for the product name. We can also use find_all()\n",
    "print(len(name))   #printing the number of products displayed in single web page\n",
    "\n",
    "\n",
    "rating = soup.select('.hGSR34') #Selecting the tag for the rating. We can also use find_all()\n",
    "print(len(rating))   #printing the number of ratings displayed in single web page\n",
    "\n",
    "price = soup.find_all(class_ = \"_1vC4OE _2rQ-NK\")  #selecting the tags for the price.\n",
    "print(len(price))  #printing the number of product prices displayed in single web page\n",
    "\n",
    "# Create a dataframe and store all column names in it. \n",
    "# I have stored all columns in list because list stores all columns in sequential order. \n",
    "df = pd.DataFrame(columns = ['Name','Rating','Price']) \n",
    "\n",
    "product = 0  #Initialize product = 0 and we use this variable to traverse from one product to next product in single web page\n",
    "for i,j,z in zip(name,rating,price):  #zip function iterates through multiple iterables(lists) and aggregates them.\n",
    "    df.loc[product] = i.text,j.text,z.text  \n",
    "    product = product + 1\n",
    "\n",
    "print(df) "
   ]
  },
  {
   "cell_type": "code",
   "execution_count": 2,
   "metadata": {},
   "outputs": [
    {
     "name": "stdout",
     "output_type": "stream",
     "text": [
      "[{'Name': 'Apple iPhone 7 (Black, 32 GB)', 'Rating': '4.5', 'Price': '₹29,499'}, {'Name': 'Apple iPhone 11 (White, 128 GB)', 'Rating': '4.7', 'Price': '₹73,600'}, {'Name': 'Apple iPhone 7 Plus (Black, 32 GB)', 'Rating': '4.5', 'Price': '₹36,999'}, {'Name': 'Apple iPhone 11 (White, 64 GB)', 'Rating': '4.7', 'Price': '₹68,300'}, {'Name': 'Apple iPhone 7 Plus (Rose Gold, 32 GB)', 'Rating': '4.5', 'Price': '₹36,999'}, {'Name': 'Apple iPhone 11 (Black, 64 GB)', 'Rating': '4.7', 'Price': '₹68,300'}, {'Name': 'Apple iPhone 8 (Space Grey, 64 GB)', 'Rating': '4.5', 'Price': '₹38,999'}, {'Name': 'Apple iPhone 11 (Purple, 64 GB)', 'Rating': '4.7', 'Price': '₹68,300'}, {'Name': 'Apple iPhone XS (Gold, 64 GB)', 'Rating': '4.7', 'Price': '₹62,999'}, {'Name': 'Apple iPhone 8 (Silver, 64 GB)', 'Rating': '4.5', 'Price': '₹38,999'}, {'Name': 'Apple iPhone 11 (Black, 128 GB)', 'Rating': '4.7', 'Price': '₹73,600'}, {'Name': 'Apple iPhone 11 (Green, 64 GB)', 'Rating': '4.7', 'Price': '₹68,300'}, {'Name': 'Apple iPhone 7 Plus (Gold, 32 GB)', 'Rating': '4.5', 'Price': '₹36,999'}, {'Name': 'Apple iPhone XR (Black, 128 GB)', 'Rating': '4.6', 'Price': '₹57,800'}, {'Name': 'Apple iPhone XS (Silver, 64 GB)', 'Rating': '4.7', 'Price': '₹62,999'}, {'Name': 'Apple iPhone XS (Space Grey, 64 GB)', 'Rating': '4.7', 'Price': '₹62,999'}, {'Name': 'Apple iPhone 6s (Gold, 32 GB)', 'Rating': '4.5', 'Price': '₹23,480'}, {'Name': 'Apple iPhone 7 (Rose Gold, 32 GB)', 'Rating': '4.5', 'Price': '₹29,499'}, {'Name': 'Apple iPhone XR (Coral, 128 GB)', 'Rating': '4.6', 'Price': '₹57,800'}, {'Name': 'Apple iPhone XR (White, 64 GB)', 'Rating': '4.6', 'Price': '₹52,500'}, {'Name': 'Apple iPhone XR (Blue, 64 GB)', 'Rating': '4.6', 'Price': '₹52,500'}, {'Name': 'Apple iPhone 7 (Rose Gold, 128 GB)', 'Rating': '4.5', 'Price': '₹34,900'}, {'Name': 'Apple iPhone 11 (White, 256 GB)', 'Rating': '4.7', 'Price': '₹84,100'}, {'Name': 'Apple iPhone 11 (Red, 128 GB)', 'Rating': '4.7', 'Price': '₹73,600'}]\n"
     ]
    }
   ],
   "source": [
    "dict = df.to_dict('records')  # Converting the dataframe into dictionary (Json doc structured) since MongoDB stores the data in dictionary format.\n",
    "print(dict)"
   ]
  },
  {
   "cell_type": "code",
   "execution_count": 3,
   "metadata": {},
   "outputs": [
    {
     "name": "stdout",
     "output_type": "stream",
     "text": [
      "Connection established to mongoDb\n",
      "stored data in DB\n"
     ]
    }
   ],
   "source": [
    "dbConn = pymongo.MongoClient(\"mongodb://localhost:27017/\")  # opening a connection to MongoDB\n",
    "db = dbConn['flipdb']  #Creating  database name as \"flipdb\"\n",
    "print(\"Connection established to mongoDb\")\n",
    "data= db.product_info   #creating collection name as \"product_info\"\n",
    "data.insert_many(dict)  #inserting all dictionary \"dict\" keys and values into MongoDB\n",
    "print('stored data in DB')\n"
   ]
  }
 ],
 "metadata": {
  "kernelspec": {
   "display_name": "Python 3",
   "language": "python",
   "name": "python3"
  },
  "language_info": {
   "codemirror_mode": {
    "name": "ipython",
    "version": 3
   },
   "file_extension": ".py",
   "mimetype": "text/x-python",
   "name": "python",
   "nbconvert_exporter": "python",
   "pygments_lexer": "ipython3",
   "version": "3.7.6"
  }
 },
 "nbformat": 4,
 "nbformat_minor": 4
}
